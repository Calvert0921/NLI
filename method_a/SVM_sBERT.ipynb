{
 "cells": [
  {
   "cell_type": "code",
   "execution_count": 2,
   "id": "4ac5f717-2bff-4f6f-9aaf-6a955deb90a5",
   "metadata": {},
   "outputs": [],
   "source": [
    "from sentence_transformers import SentenceTransformer\n",
    "from sklearn.svm import SVC\n",
    "from sklearn.metrics import classification_report\n",
    "import pandas as pd\n",
    "import numpy as np\n",
    "from joblib import dump, load\n",
    "from tqdm.auto import tqdm"
   ]
  },
  {
   "cell_type": "code",
   "execution_count": 3,
   "id": "d43cf8d3-9e2d-4acc-be2f-0d296e0e0fab",
   "metadata": {
    "scrolled": true
   },
   "outputs": [],
   "source": [
    "train_data = pd.read_csv('train.csv')\n",
    "val_data = pd.read_csv('dev.csv')\n",
    "\n",
    "model = SentenceTransformer('sentence-transformers/all-mpnet-base-v2')"
   ]
  },
  {
   "cell_type": "code",
   "execution_count": 4,
   "id": "c78e8b29-d428-44fe-8063-306f614de294",
   "metadata": {},
   "outputs": [],
   "source": [
    "# Function to apply model encoding with a progress bar\n",
    "def encode_with_progress(series):\n",
    "    return series.astype(str).progress_apply(model.encode)\n",
    "\n",
    "# Function to combine premise and hypothesis\n",
    "def combine_embeddings(embedding1, embedding2):\n",
    "    # Element-wise difference\n",
    "    difference = np.subtract(embedding1, embedding2)\n",
    "    \n",
    "    # Element-wise product\n",
    "    product = np.multiply(embedding1, embedding2)\n",
    "    \n",
    "    # Concatenate features\n",
    "    combined_embedding = np.concatenate((embedding1, embedding2, difference, product))\n",
    "    \n",
    "    return combined_embedding"
   ]
  },
  {
   "cell_type": "code",
   "execution_count": 5,
   "id": "a2aea9ab-8a58-4a5b-8c23-487184ce13ed",
   "metadata": {},
   "outputs": [
    {
     "data": {
      "application/vnd.jupyter.widget-view+json": {
       "model_id": "89d3df77bed846f1baeb1b60797a2792",
       "version_major": 2,
       "version_minor": 0
      },
      "text/plain": [
       "  0%|          | 0/26944 [00:00<?, ?it/s]"
      ]
     },
     "metadata": {},
     "output_type": "display_data"
    },
    {
     "data": {
      "application/vnd.jupyter.widget-view+json": {
       "model_id": "fccd480e33ec412f92e3a44bc34fc01c",
       "version_major": 2,
       "version_minor": 0
      },
      "text/plain": [
       "  0%|          | 0/26944 [00:00<?, ?it/s]"
      ]
     },
     "metadata": {},
     "output_type": "display_data"
    },
    {
     "data": {
      "application/vnd.jupyter.widget-view+json": {
       "model_id": "054f15cd55ab4a11bca5bea580ab1ec8",
       "version_major": 2,
       "version_minor": 0
      },
      "text/plain": [
       "  0%|          | 0/6737 [00:00<?, ?it/s]"
      ]
     },
     "metadata": {},
     "output_type": "display_data"
    },
    {
     "data": {
      "application/vnd.jupyter.widget-view+json": {
       "model_id": "2b2d7760c8a84fdbbb1200d3ea7587f6",
       "version_major": 2,
       "version_minor": 0
      },
      "text/plain": [
       "  0%|          | 0/6737 [00:00<?, ?it/s]"
      ]
     },
     "metadata": {},
     "output_type": "display_data"
    }
   ],
   "source": [
    "# Initialize tqdm within the pandas apply\n",
    "tqdm.pandas()\n",
    "\n",
    "# Embedding the data\n",
    "train_data['embedding_premise'] = encode_with_progress(train_data['premise'])\n",
    "train_data['embedding_hypothesis'] = encode_with_progress(train_data['hypothesis'])\n",
    "\n",
    "val_data['embedding_premise'] = encode_with_progress(val_data['premise'])\n",
    "val_data['embedding_hypothesis'] = encode_with_progress(val_data['hypothesis'])"
   ]
  },
  {
   "cell_type": "code",
   "execution_count": 6,
   "id": "07313423-d4da-438d-b169-3d2d85710989",
   "metadata": {},
   "outputs": [],
   "source": [
    "train_data['combined_embedding'] = train_data.apply(lambda x: combine_embeddings(x['embedding_premise'], x['embedding_hypothesis']), axis=1)\n",
    "val_data['combined_embedding'] = val_data.apply(lambda x: combine_embeddings(x['embedding_premise'], x['embedding_hypothesis']), axis=1)"
   ]
  },
  {
   "cell_type": "code",
   "execution_count": 7,
   "id": "8f622635-4a29-4704-826d-130fe08d7beb",
   "metadata": {},
   "outputs": [
    {
     "name": "stdout",
     "output_type": "stream",
     "text": [
      "              precision    recall  f1-score   support\n",
      "\n",
      "           0       0.79      0.69      0.74      3259\n",
      "           1       0.74      0.83      0.78      3478\n",
      "\n",
      "    accuracy                           0.76      6737\n",
      "   macro avg       0.77      0.76      0.76      6737\n",
      "weighted avg       0.77      0.76      0.76      6737\n",
      "\n"
     ]
    }
   ],
   "source": [
    "svm = SVC(kernel='rbf', C=2.0) \n",
    "svm.fit(train_data['combined_embedding'].tolist(), train_data['label'].tolist())\n",
    "\n",
    "# Evaluate\n",
    "y_pred = svm.predict(val_data['combined_embedding'].tolist())\n",
    "print(classification_report(val_data['label'].tolist(), y_pred))"
   ]
  },
  {
   "cell_type": "code",
   "execution_count": 8,
   "id": "fc5fd376-680b-4df6-b69a-320f28ec3f74",
   "metadata": {},
   "outputs": [
    {
     "data": {
      "text/plain": [
       "['svm_sBERT.joblib']"
      ]
     },
     "execution_count": 8,
     "metadata": {},
     "output_type": "execute_result"
    }
   ],
   "source": [
    "dump(svm, 'svm_sBERT.joblib')"
   ]
  },
  {
   "cell_type": "code",
   "execution_count": 10,
   "id": "fc6c3c60-0759-43a0-8728-60dd2fe3ca18",
   "metadata": {},
   "outputs": [],
   "source": [
    "df = pd.DataFrame({\"prediction\": y_pred})\n",
    "df.to_csv('result_sBERT.csv', index=False)"
   ]
  }
 ],
 "metadata": {
  "kernelspec": {
   "display_name": "Python 3 (ipykernel)",
   "language": "python",
   "name": "python3"
  },
  "language_info": {
   "codemirror_mode": {
    "name": "ipython",
    "version": 3
   },
   "file_extension": ".py",
   "mimetype": "text/x-python",
   "name": "python",
   "nbconvert_exporter": "python",
   "pygments_lexer": "ipython3",
   "version": "3.11.8"
  }
 },
 "nbformat": 4,
 "nbformat_minor": 5
}
