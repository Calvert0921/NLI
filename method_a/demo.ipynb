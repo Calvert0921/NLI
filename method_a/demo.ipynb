{
 "cells": [
  {
   "cell_type": "markdown",
   "id": "a3358d09-ac33-4494-b132-cfb5c30774aa",
   "metadata": {},
   "source": [
    "# Libraries"
   ]
  },
  {
   "cell_type": "code",
   "execution_count": null,
   "id": "467ba397-7c4b-4385-b075-159a49658309",
   "metadata": {},
   "outputs": [],
   "source": [
    "# !pip install scikit-learn\n",
    "# !pip install spacy\n",
    "# !python -m spacy download en_core_web_sm\n",
    "# !pip install torchtext==0.6.0\n",
    "# !pip install transformers sentence-transformers\n",
    "# !pip install tqdm"
   ]
  },
  {
   "cell_type": "code",
   "execution_count": 1,
   "id": "68e41df0-87b7-4bbe-8fed-deabbf4c017b",
   "metadata": {},
   "outputs": [],
   "source": [
    "from joblib import load\n",
    "import pandas as pd\n",
    "import numpy as np\n",
    "# import spacy\n",
    "# from torchtext import data\n",
    "# from torchtext.vocab import GloVe\n",
    "# import torch\n",
    "# import random\n",
    "# from transformers import DebertaTokenizer, DebertaModel\n",
    "from sentence_transformers import SentenceTransformer\n",
    "from tqdm.auto import tqdm\n",
    "# from sklearn.metrics import classification_report"
   ]
  },
  {
   "cell_type": "markdown",
   "id": "2d74a1e4-2b47-4f5f-9002-04abc6efa63e",
   "metadata": {},
   "source": [
    "# Load models and data"
   ]
  },
  {
   "cell_type": "code",
   "execution_count": 2,
   "id": "fe72e4b1-abb7-42f0-818d-5cb8cd446da1",
   "metadata": {},
   "outputs": [],
   "source": [
    "test_data = pd.read_csv('test.csv')\n",
    "svm_sBERT = load('models/svm_sBERT.joblib')"
   ]
  },
  {
   "cell_type": "markdown",
   "id": "a8565e5f-69bb-410d-8277-65099dedc3ed",
   "metadata": {},
   "source": [
    "# Process data"
   ]
  },
  {
   "cell_type": "markdown",
   "id": "d76bbb60-17d8-4640-afe2-b555d53c46a4",
   "metadata": {},
   "source": [
    "## Initialization"
   ]
  },
  {
   "cell_type": "code",
   "execution_count": 3,
   "id": "88491110-def1-46e1-b89d-3c4db380e78d",
   "metadata": {},
   "outputs": [],
   "source": [
    "model = SentenceTransformer('sentence-transformers/all-mpnet-base-v2')"
   ]
  },
  {
   "cell_type": "markdown",
   "id": "7198ea13-2b06-4cfb-8537-6b0bf2d9b514",
   "metadata": {},
   "source": [
    "### Sentence Embedding"
   ]
  },
  {
   "cell_type": "code",
   "execution_count": 4,
   "id": "086d2fe2-3764-4e69-b15b-27c633a2ba7d",
   "metadata": {},
   "outputs": [
    {
     "data": {
      "application/vnd.jupyter.widget-view+json": {
       "model_id": "cb657bf90c8c4157821e8603457392f9",
       "version_major": 2,
       "version_minor": 0
      },
      "text/plain": [
       "  0%|          | 0/3302 [00:00<?, ?it/s]"
      ]
     },
     "metadata": {},
     "output_type": "display_data"
    },
    {
     "data": {
      "application/vnd.jupyter.widget-view+json": {
       "model_id": "bf864d6dfa1d4f8b8a242724a2144a40",
       "version_major": 2,
       "version_minor": 0
      },
      "text/plain": [
       "  0%|          | 0/3302 [00:00<?, ?it/s]"
      ]
     },
     "metadata": {},
     "output_type": "display_data"
    }
   ],
   "source": [
    "# Function to apply model encoding with a progress bar\n",
    "def encode_with_progress(series):\n",
    "    return series.astype(str).progress_apply(model.encode)\n",
    "\n",
    "# Function to combine premise and hypothesis\n",
    "def combine_embeddings(embedding1, embedding2):\n",
    "    # Element-wise difference\n",
    "    difference = np.subtract(embedding1, embedding2)\n",
    "    \n",
    "    # Element-wise product\n",
    "    product = np.multiply(embedding1, embedding2)\n",
    "    \n",
    "    # Concatenate features\n",
    "    combined_embedding = np.concatenate((embedding1, embedding2, difference, product))\n",
    "    \n",
    "    return combined_embedding\n",
    "\n",
    "# Initialize tqdm within the pandas apply\n",
    "tqdm.pandas()\n",
    "\n",
    "# Embedding the data\n",
    "test_data['embedding_premise'] = encode_with_progress(test_data['premise'])\n",
    "test_data['embedding_hypothesis'] = encode_with_progress(test_data['hypothesis'])\n",
    "\n",
    "# Combining the data\n",
    "test_data['combined_embedding'] = test_data.apply(lambda x: combine_embeddings(x['embedding_premise'], x['embedding_hypothesis']), axis=1)"
   ]
  },
  {
   "cell_type": "markdown",
   "id": "6f5b9c4e-d4f4-4516-ad75-8b4597a43337",
   "metadata": {},
   "source": [
    "# Predict"
   ]
  },
  {
   "cell_type": "code",
   "execution_count": null,
   "id": "731ffa55-d654-4c6e-a773-2acd1c4542ea",
   "metadata": {},
   "outputs": [],
   "source": [
    "y_pred_sBERT = svm_sBERT.predict(test_data['combined_embedding'].tolist())"
   ]
  },
  {
   "cell_type": "markdown",
   "id": "f49e8320-eb70-4638-ae26-62dc57ca2e60",
   "metadata": {},
   "source": [
    "# Save result"
   ]
  },
  {
   "cell_type": "code",
   "execution_count": null,
   "id": "0745d8c1-ef3a-4e8e-bcbf-14983bac1eec",
   "metadata": {},
   "outputs": [],
   "source": [
    "df = pd.DataFrame({\"prediction\": y_pred_sBERT})\n",
    "df.to_csv('Group_9_A.csv', index=False)"
   ]
  }
 ],
 "metadata": {
  "kernelspec": {
   "display_name": "Python 3 (ipykernel)",
   "language": "python",
   "name": "python3"
  },
  "language_info": {
   "codemirror_mode": {
    "name": "ipython",
    "version": 3
   },
   "file_extension": ".py",
   "mimetype": "text/x-python",
   "name": "python",
   "nbconvert_exporter": "python",
   "pygments_lexer": "ipython3",
   "version": "3.11.8"
  }
 },
 "nbformat": 4,
 "nbformat_minor": 5
}
